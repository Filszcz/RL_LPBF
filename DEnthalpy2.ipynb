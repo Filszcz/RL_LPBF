{
 "cells": [
  {
   "cell_type": "code",
   "execution_count": 17,
   "metadata": {},
   "outputs": [
    {
     "name": "stdout",
     "output_type": "stream",
     "text": [
      "0.09848857801796106\n"
     ]
    }
   ],
   "source": [
    "import numpy as np\n",
    "\n",
    "# fourier number for my aluminum\n",
    "def Fourier(alpha=0.0000097, t=0.001, L=0.001):\n",
    "    return alpha*t/L**2\n",
    "\n",
    "\n",
    "SF = np.sqrt(Fourier())\n",
    "\n",
    "print(SF)"
   ]
  },
  {
   "cell_type": "code",
   "execution_count": 18,
   "metadata": {},
   "outputs": [
    {
     "name": "stderr",
     "output_type": "stream",
     "text": [
      "  1%|          | 3089/500000 [00:00<00:16, 30886.35it/s]"
     ]
    },
    {
     "name": "stdout",
     "output_type": "stream",
     "text": [
      "Epoch:  0\n",
      "Reward:  -0.004957918478907808\n",
      "Epsilon:  1.0\n",
      "Power:  324.75757575757575\n",
      "Scan Speed:  2.209090909090909\n",
      "\n",
      "\n"
     ]
    },
    {
     "name": "stderr",
     "output_type": "stream",
     "text": [
      "  3%|▎         | 16546/500000 [00:00<00:14, 33865.11it/s]"
     ]
    },
    {
     "name": "stdout",
     "output_type": "stream",
     "text": [
      "Epoch:  10000\n",
      "Reward:  -0.022078131093894313\n",
      "Epsilon:  0.10332008387787707\n",
      "Power:  59.60606060606061\n",
      "Scan Speed:  2.618181818181818\n",
      "\n",
      "\n"
     ]
    },
    {
     "name": "stderr",
     "output_type": "stream",
     "text": [
      "  5%|▌         | 26703/500000 [00:00<00:14, 33404.78it/s]"
     ]
    },
    {
     "name": "stdout",
     "output_type": "stream",
     "text": [
      "Epoch:  20000\n",
      "Reward:  -0.0022734443922390398\n",
      "Epsilon:  0.05727309006474036\n",
      "Power:  336.3636363636364\n",
      "Scan Speed:  2.7454545454545456\n",
      "\n",
      "\n"
     ]
    },
    {
     "name": "stderr",
     "output_type": "stream",
     "text": [
      "  7%|▋         | 33337/500000 [00:01<00:14, 32854.74it/s]"
     ]
    },
    {
     "name": "stdout",
     "output_type": "stream",
     "text": [
      "Epoch:  30000\n",
      "Reward:  -0.024883700996231838\n",
      "Epsilon:  0.0378624209306197\n",
      "Power:  50.0\n",
      "Scan Speed:  1.918181818181818\n",
      "\n",
      "\n"
     ]
    },
    {
     "name": "stderr",
     "output_type": "stream",
     "text": [
      "  9%|▉         | 46871/500000 [00:01<00:13, 33722.48it/s]"
     ]
    },
    {
     "name": "stdout",
     "output_type": "stream",
     "text": [
      "Epoch:  40000\n",
      "Reward:  -0.0030560360538573967\n",
      "Epsilon:  0.027234276050479886\n",
      "Power:  330.29292929292933\n",
      "Scan Speed:  2.4545454545454546\n",
      "\n",
      "\n"
     ]
    },
    {
     "name": "stderr",
     "output_type": "stream",
     "text": [
      " 11%|█         | 53597/500000 [00:01<00:13, 33356.63it/s]"
     ]
    },
    {
     "name": "stdout",
     "output_type": "stream",
     "text": [
      "Epoch:  50000\n",
      "Reward:  -0.027295684012641604\n",
      "Epsilon:  0.02061957144722081\n",
      "Power:  400.0\n",
      "Scan Speed:  1.6454545454545455\n",
      "\n",
      "\n"
     ]
    },
    {
     "name": "stderr",
     "output_type": "stream",
     "text": [
      " 13%|█▎        | 63806/500000 [00:01<00:12, 33894.97it/s]"
     ]
    },
    {
     "name": "stdout",
     "output_type": "stream",
     "text": [
      "Epoch:  60000\n",
      "Reward:  -0.010974691601752252\n",
      "Epsilon:  0.016167944460168563\n",
      "Power:  399.0\n",
      "Scan Speed:  2.4272727272727272\n",
      "\n",
      "\n"
     ]
    },
    {
     "name": "stderr",
     "output_type": "stream",
     "text": [
      " 15%|█▍        | 74070/500000 [00:02<00:12, 33570.56it/s]"
     ]
    },
    {
     "name": "stdout",
     "output_type": "stream",
     "text": [
      "Epoch:  70000\n",
      "Reward:  -0.013000642647665704\n",
      "Epsilon:  0.013007782541464756\n",
      "Power:  349.5050505050505\n",
      "Scan Speed:  1.881818181818182\n",
      "\n",
      "\n"
     ]
    },
    {
     "name": "stderr",
     "output_type": "stream",
     "text": [
      " 17%|█▋        | 84082/500000 [00:02<00:12, 33208.17it/s]"
     ]
    },
    {
     "name": "stdout",
     "output_type": "stream",
     "text": [
      "Epoch:  80000\n",
      "Reward:  -0.013727182261355792\n",
      "Epsilon:  0.010675039732531554\n",
      "Power:  322.22222222222223\n",
      "Scan Speed:  1.7363636363636366\n",
      "\n",
      "\n"
     ]
    },
    {
     "name": "stderr",
     "output_type": "stream",
     "text": [
      " 19%|█▉        | 94033/500000 [00:02<00:12, 32676.06it/s]"
     ]
    },
    {
     "name": "stdout",
     "output_type": "stream",
     "text": [
      "Epoch:  90000\n",
      "Reward:  -0.01256494192600514\n",
      "Epsilon:  0.008900648411377218\n",
      "Power:  114.63636363636364\n",
      "Scan Speed:  2.6454545454545455\n",
      "\n",
      "\n"
     ]
    },
    {
     "name": "stderr",
     "output_type": "stream",
     "text": [
      " 21%|██        | 104076/500000 [00:03<00:11, 33147.54it/s]"
     ]
    },
    {
     "name": "stdout",
     "output_type": "stream",
     "text": [
      "Epoch:  100000\n",
      "Reward:  -0.002863446843792372\n",
      "Epsilon:  0.00751839999853553\n",
      "Power:  252.51515151515153\n",
      "Scan Speed:  1.9636363636363638\n",
      "\n",
      "\n"
     ]
    },
    {
     "name": "stderr",
     "output_type": "stream",
     "text": [
      " 23%|██▎       | 114174/500000 [00:03<00:11, 33471.91it/s]"
     ]
    },
    {
     "name": "stdout",
     "output_type": "stream",
     "text": [
      "Epoch:  110000\n",
      "Reward:  -0.014413651658341764\n",
      "Epsilon:  0.006420465419024037\n",
      "Power:  382.32323232323233\n",
      "Scan Speed:  2.172727272727273\n",
      "\n",
      "\n"
     ]
    },
    {
     "name": "stderr",
     "output_type": "stream",
     "text": [
      " 25%|██▍       | 124528/500000 [00:03<00:10, 34182.16it/s]"
     ]
    },
    {
     "name": "stdout",
     "output_type": "stream",
     "text": [
      "Epoch:  120000\n",
      "Reward:  -0.01521604291324325\n",
      "Epsilon:  0.005534093415577757\n",
      "Power:  396.4646464646465\n",
      "Scan Speed:  2.254545454545455\n",
      "\n",
      "\n"
     ]
    },
    {
     "name": "stderr",
     "output_type": "stream",
     "text": [
      " 27%|██▋       | 134802/500000 [00:04<00:10, 33968.93it/s]"
     ]
    },
    {
     "name": "stdout",
     "output_type": "stream",
     "text": [
      "Epoch:  130000\n",
      "Reward:  -0.003909303004577677\n",
      "Epsilon:  0.004808597288038404\n",
      "Power:  237.37373737373738\n",
      "Scan Speed:  1.6727272727272728\n",
      "\n",
      "\n"
     ]
    },
    {
     "name": "stderr",
     "output_type": "stream",
     "text": [
      " 29%|██▉       | 145206/500000 [00:04<00:10, 34472.17it/s]"
     ]
    },
    {
     "name": "stdout",
     "output_type": "stream",
     "text": [
      "Epoch:  140000\n",
      "Reward:  -0.025860600984027305\n",
      "Epsilon:  0.004207702262276008\n",
      "Power:  57.07070707070707\n",
      "Scan Speed:  0.7727272727272728\n",
      "\n",
      "\n"
     ]
    },
    {
     "name": "stderr",
     "output_type": "stream",
     "text": [
      " 31%|███       | 155586/500000 [00:04<00:10, 33457.07it/s]"
     ]
    },
    {
     "name": "stdout",
     "output_type": "stream",
     "text": [
      "Epoch:  150000\n",
      "Reward:  -0.022658600697921194\n",
      "Epsilon:  0.0037048491331364516\n",
      "Power:  66.67676767676768\n",
      "Scan Speed:  0.6000000000000001\n",
      "\n",
      "\n"
     ]
    },
    {
     "name": "stderr",
     "output_type": "stream",
     "text": [
      " 33%|███▎      | 165723/500000 [00:04<00:09, 33446.03it/s]"
     ]
    },
    {
     "name": "stdout",
     "output_type": "stream",
     "text": [
      "Epoch:  160000\n",
      "Reward:  -0.0030128776356467416\n",
      "Epsilon:  0.00328020684556386\n",
      "Power:  204.55555555555557\n",
      "Scan Speed:  2.0454545454545454\n",
      "\n",
      "\n"
     ]
    },
    {
     "name": "stderr",
     "output_type": "stream",
     "text": [
      " 35%|███▌      | 175837/500000 [00:05<00:09, 32732.17it/s]"
     ]
    },
    {
     "name": "stdout",
     "output_type": "stream",
     "text": [
      "Epoch:  170000\n",
      "Reward:  -0.31169238848531894\n",
      "Epsilon:  0.00291871302419348\n",
      "Power:  400.0\n",
      "Scan Speed:  0.4818181818181818\n",
      "\n",
      "\n"
     ]
    },
    {
     "name": "stderr",
     "output_type": "stream",
     "text": [
      " 37%|███▋      | 185939/500000 [00:05<00:09, 33519.51it/s]"
     ]
    },
    {
     "name": "stdout",
     "output_type": "stream",
     "text": [
      "Epoch:  180000\n",
      "Reward:  -0.018519833683951218\n",
      "Epsilon:  0.0026087542372472856\n",
      "Power:  286.86868686868684\n",
      "Scan Speed:  1.3272727272727274\n",
      "\n",
      "\n"
     ]
    },
    {
     "name": "stderr",
     "output_type": "stream",
     "text": [
      " 39%|███▉      | 196168/500000 [00:05<00:09, 32665.05it/s]"
     ]
    },
    {
     "name": "stdout",
     "output_type": "stream",
     "text": [
      "Epoch:  190000\n",
      "Reward:  -0.02900719401152233\n",
      "Epsilon:  0.002341256314809264\n",
      "Power:  212.62626262626264\n",
      "Scan Speed:  0.7000000000000001\n",
      "\n",
      "\n"
     ]
    },
    {
     "name": "stderr",
     "output_type": "stream",
     "text": [
      " 41%|████▏     | 206655/500000 [00:06<00:08, 34195.96it/s]"
     ]
    },
    {
     "name": "stdout",
     "output_type": "stream",
     "text": [
      "Epoch:  200000\n",
      "Reward:  -0.000913951474179269\n",
      "Epsilon:  0.0021090443815685463\n",
      "Power:  240.9090909090909\n",
      "Scan Speed:  2.6090909090909093\n",
      "\n",
      "\n"
     ]
    },
    {
     "name": "stderr",
     "output_type": "stream",
     "text": [
      " 43%|████▎     | 213582/500000 [00:06<00:08, 34421.87it/s]"
     ]
    },
    {
     "name": "stdout",
     "output_type": "stream",
     "text": [
      "Epoch:  210000\n",
      "Reward:  -0.013940377143098003\n",
      "Epsilon:  0.0019063843913181425\n",
      "Power:  145.45454545454544\n",
      "Scan Speed:  0.7545454545454545\n",
      "\n",
      "\n"
     ]
    },
    {
     "name": "stderr",
     "output_type": "stream",
     "text": [
      " 45%|████▍     | 224119/500000 [00:06<00:07, 34985.25it/s]"
     ]
    },
    {
     "name": "stdout",
     "output_type": "stream",
     "text": [
      "Epoch:  220000\n",
      "Reward:  -0.007960074020909903\n",
      "Epsilon:  0.0017286493091369782\n",
      "Power:  152.52525252525254\n",
      "Scan Speed:  2.8454545454545452\n",
      "\n",
      "\n"
     ]
    },
    {
     "name": "stderr",
     "output_type": "stream",
     "text": [
      " 47%|████▋     | 234549/500000 [00:07<00:07, 34071.53it/s]"
     ]
    },
    {
     "name": "stdout",
     "output_type": "stream",
     "text": [
      "Epoch:  230000\n",
      "Reward:  -0.014728753102024953\n",
      "Epsilon:  0.0015720724702144278\n",
      "Power:  109.1010101010101\n",
      "Scan Speed:  0.7636363636363637\n",
      "\n",
      "\n"
     ]
    },
    {
     "name": "stderr",
     "output_type": "stream",
     "text": [
      " 49%|████▉     | 244770/500000 [00:07<00:07, 33360.18it/s]"
     ]
    },
    {
     "name": "stdout",
     "output_type": "stream",
     "text": [
      "Epoch:  240000\n",
      "Reward:  -0.017594465087166285\n",
      "Epsilon:  0.0014335629187274288\n",
      "Power:  85.35353535353536\n",
      "Scan Speed:  2.7363636363636363\n",
      "\n",
      "\n"
     ]
    },
    {
     "name": "stderr",
     "output_type": "stream",
     "text": [
      " 51%|█████     | 255174/500000 [00:07<00:07, 34382.91it/s]"
     ]
    },
    {
     "name": "stdout",
     "output_type": "stream",
     "text": [
      "Epoch:  250000\n",
      "Reward:  -0.012935879425770517\n",
      "Epsilon:  0.0013105654741462397\n",
      "Power:  117.17171717171718\n",
      "Scan Speed:  1.0454545454545454\n",
      "\n",
      "\n"
     ]
    },
    {
     "name": "stderr",
     "output_type": "stream",
     "text": [
      " 53%|█████▎    | 265577/500000 [00:07<00:06, 34482.71it/s]"
     ]
    },
    {
     "name": "stdout",
     "output_type": "stream",
     "text": [
      "Epoch:  260000\n",
      "Reward:  -0.10462310667916988\n",
      "Epsilon:  0.0012009535158613944\n",
      "Power:  343.4343434343434\n",
      "Scan Speed:  0.7272727272727272\n",
      "\n",
      "\n"
     ]
    },
    {
     "name": "stderr",
     "output_type": "stream",
     "text": [
      " 55%|█████▌    | 276126/500000 [00:08<00:06, 34944.03it/s]"
     ]
    },
    {
     "name": "stdout",
     "output_type": "stream",
     "text": [
      "Epoch:  270000\n",
      "Reward:  -0.016083662736825478\n",
      "Epsilon:  0.001102946000564831\n",
      "Power:  114.63636363636364\n",
      "Scan Speed:  0.4636363636363636\n",
      "\n",
      "\n"
     ]
    },
    {
     "name": "stderr",
     "output_type": "stream",
     "text": [
      " 57%|█████▋    | 286474/500000 [00:08<00:06, 33994.19it/s]"
     ]
    },
    {
     "name": "stdout",
     "output_type": "stream",
     "text": [
      "Epoch:  280000\n",
      "Reward:  -0.018509482426995204\n",
      "Epsilon:  0.0010150426335750844\n",
      "Power:  79.28282828282829\n",
      "Scan Speed:  2.5090909090909093\n",
      "\n",
      "\n"
     ]
    },
    {
     "name": "stderr",
     "output_type": "stream",
     "text": [
      " 59%|█████▉    | 296525/500000 [00:08<00:06, 32630.22it/s]"
     ]
    },
    {
     "name": "stdout",
     "output_type": "stream",
     "text": [
      "Epoch:  290000\n",
      "Reward:  -0.02782991402996713\n",
      "Epsilon:  0.0009359727840507436\n",
      "Power:  166.66666666666669\n",
      "Scan Speed:  0.509090909090909\n",
      "\n",
      "\n"
     ]
    },
    {
     "name": "stderr",
     "output_type": "stream",
     "text": [
      " 61%|██████▏   | 307065/500000 [00:09<00:05, 34340.27it/s]"
     ]
    },
    {
     "name": "stdout",
     "output_type": "stream",
     "text": [
      "Epoch:  300000\n",
      "Reward:  -0.009182232275384469\n",
      "Epsilon:  0.0008646549071556864\n",
      "Power:  138.3838383838384\n",
      "Scan Speed:  1.7363636363636366\n",
      "\n",
      "\n"
     ]
    },
    {
     "name": "stderr",
     "output_type": "stream",
     "text": [
      " 63%|██████▎   | 314104/500000 [00:09<00:05, 34764.06it/s]"
     ]
    },
    {
     "name": "stdout",
     "output_type": "stream",
     "text": [
      "Epoch:  310000\n",
      "Reward:  -0.007006655887075609\n",
      "Epsilon:  0.0008001640715049247\n",
      "Power:  160.59595959595958\n",
      "Scan Speed:  2.890909090909091\n",
      "\n",
      "\n"
     ]
    },
    {
     "name": "stderr",
     "output_type": "stream",
     "text": [
      " 65%|██████▍   | 324806/500000 [00:09<00:04, 35164.95it/s]"
     ]
    },
    {
     "name": "stdout",
     "output_type": "stream",
     "text": [
      "Epoch:  320000\n",
      "Reward:  -0.003838071453243626\n",
      "Epsilon:  0.0007417057919937423\n",
      "Power:  371.7171717171717\n",
      "Scan Speed:  2.909090909090909\n",
      "\n",
      "\n"
     ]
    },
    {
     "name": "stderr",
     "output_type": "stream",
     "text": [
      " 67%|██████▋   | 335124/500000 [00:09<00:04, 33231.31it/s]"
     ]
    },
    {
     "name": "stdout",
     "output_type": "stream",
     "text": [
      "Epoch:  330000\n",
      "Reward:  -0.006630841208002267\n",
      "Epsilon:  0.0006885948064481689\n",
      "Power:  389.3939393939394\n",
      "Scan Speed:  2.772727272727273\n",
      "\n",
      "\n"
     ]
    },
    {
     "name": "stderr",
     "output_type": "stream",
     "text": [
      " 69%|██████▉   | 345346/500000 [00:10<00:04, 33763.83it/s]"
     ]
    },
    {
     "name": "stdout",
     "output_type": "stream",
     "text": [
      "Epoch:  340000\n",
      "Reward:  -0.004241181841921766\n",
      "Epsilon:  0.0006402377571017424\n",
      "Power:  194.94949494949495\n",
      "Scan Speed:  1.9000000000000004\n",
      "\n",
      "\n"
     ]
    },
    {
     "name": "stderr",
     "output_type": "stream",
     "text": [
      " 71%|███████   | 355560/500000 [00:10<00:04, 33700.01it/s]"
     ]
    },
    {
     "name": "stdout",
     "output_type": "stream",
     "text": [
      "Epoch:  350000\n",
      "Reward:  -0.023775829310776268\n",
      "Epsilon:  0.0005961189775553211\n",
      "Power:  57.07070707070707\n",
      "Scan Speed:  1.8454545454545457\n",
      "\n",
      "\n"
     ]
    },
    {
     "name": "stderr",
     "output_type": "stream",
     "text": [
      " 73%|███████▎  | 365772/500000 [00:10<00:04, 33374.92it/s]"
     ]
    },
    {
     "name": "stdout",
     "output_type": "stream",
     "text": [
      "Epoch:  360000\n",
      "Reward:  -0.026111026431381818\n",
      "Epsilon:  0.0005557887655263978\n",
      "Power:  50.0\n",
      "Scan Speed:  0.3\n",
      "\n",
      "\n"
     ]
    },
    {
     "name": "stderr",
     "output_type": "stream",
     "text": [
      " 75%|███████▌  | 376170/500000 [00:11<00:03, 34093.03it/s]"
     ]
    },
    {
     "name": "stdout",
     "output_type": "stream",
     "text": [
      "Epoch:  370000\n",
      "Reward:  -0.10860809549414675\n",
      "Epsilon:  0.0005188536574997468\n",
      "Power:  237.37373737373738\n",
      "Scan Speed:  0.4\n",
      "\n",
      "\n"
     ]
    },
    {
     "name": "stderr",
     "output_type": "stream",
     "text": [
      " 77%|███████▋  | 386732/500000 [00:11<00:03, 34401.41it/s]"
     ]
    },
    {
     "name": "stdout",
     "output_type": "stream",
     "text": [
      "Epoch:  380000\n",
      "Reward:  -0.023816298321075565\n",
      "Epsilon:  0.0004849683248664389\n",
      "Power:  233.83838383838383\n",
      "Scan Speed:  0.890909090909091\n",
      "\n",
      "\n"
     ]
    },
    {
     "name": "stderr",
     "output_type": "stream",
     "text": [
      " 79%|███████▊  | 393581/500000 [00:11<00:03, 33553.78it/s]"
     ]
    },
    {
     "name": "stdout",
     "output_type": "stream",
     "text": [
      "Epoch:  390000\n",
      "Reward:  -0.13907298319481645\n",
      "Epsilon:  0.0004538287905683\n",
      "Power:  283.33333333333337\n",
      "Scan Speed:  0.4545454545454546\n",
      "\n",
      "\n"
     ]
    },
    {
     "name": "stderr",
     "output_type": "stream",
     "text": [
      " 81%|████████  | 403980/500000 [00:12<00:02, 34181.52it/s]"
     ]
    },
    {
     "name": "stdout",
     "output_type": "stream",
     "text": [
      "Epoch:  400000\n",
      "Reward:  -0.01333593932641476\n",
      "Epsilon:  0.00042516672666704364\n",
      "Power:  113.63636363636364\n",
      "Scan Speed:  1.3\n",
      "\n",
      "\n"
     ]
    },
    {
     "name": "stderr",
     "output_type": "stream",
     "text": [
      " 83%|████████▎ | 414235/500000 [00:12<00:02, 32844.56it/s]"
     ]
    },
    {
     "name": "stdout",
     "output_type": "stream",
     "text": [
      "Epoch:  410000\n",
      "Reward:  -0.009691737612537213\n",
      "Epsilon:  0.0003987446410391508\n",
      "Power:  130.31313131313132\n",
      "Scan Speed:  1.9636363636363638\n",
      "\n",
      "\n"
     ]
    },
    {
     "name": "stderr",
     "output_type": "stream",
     "text": [
      " 85%|████████▍ | 424145/500000 [00:12<00:02, 32283.10it/s]"
     ]
    },
    {
     "name": "stdout",
     "output_type": "stream",
     "text": [
      "Epoch:  420000\n",
      "Reward:  -0.01207050504417507\n",
      "Epsilon:  0.00037435179881506806\n",
      "Power:  198.4848484848485\n",
      "Scan Speed:  1.0545454545454547\n",
      "\n",
      "\n"
     ]
    },
    {
     "name": "stderr",
     "output_type": "stream",
     "text": [
      " 87%|████████▋ | 434462/500000 [00:12<00:01, 33834.71it/s]"
     ]
    },
    {
     "name": "stdout",
     "output_type": "stream",
     "text": [
      "Epoch:  430000\n",
      "Reward:  -0.0010249770806313625\n",
      "Epsilon:  0.0003518007536576617\n",
      "Power:  308.0808080808081\n",
      "Scan Speed:  2.7181818181818183\n",
      "\n",
      "\n"
     ]
    },
    {
     "name": "stderr",
     "output_type": "stream",
     "text": [
      " 89%|████████▉ | 444906/500000 [00:13<00:01, 34495.37it/s]"
     ]
    },
    {
     "name": "stdout",
     "output_type": "stream",
     "text": [
      "Epoch:  440000\n",
      "Reward:  -0.01661132090314985\n",
      "Epsilon:  0.0003309243873273619\n",
      "Power:  88.88888888888889\n",
      "Scan Speed:  2.4909090909090907\n",
      "\n",
      "\n"
     ]
    },
    {
     "name": "stderr",
     "output_type": "stream",
     "text": [
      " 91%|█████████ | 455409/500000 [00:13<00:01, 34873.61it/s]"
     ]
    },
    {
     "name": "stdout",
     "output_type": "stream",
     "text": [
      "Epoch:  450000\n",
      "Reward:  -0.09011932727053089\n",
      "Epsilon:  0.0003115733745821916\n",
      "Power:  375.2525252525253\n",
      "Scan Speed:  0.9181818181818181\n",
      "\n",
      "\n"
     ]
    },
    {
     "name": "stderr",
     "output_type": "stream",
     "text": [
      " 93%|█████████▎| 465988/500000 [00:13<00:00, 35041.61it/s]"
     ]
    },
    {
     "name": "stdout",
     "output_type": "stream",
     "text": [
      "Epoch:  460000\n",
      "Reward:  -0.0010872212298743613\n",
      "Epsilon:  0.0002936140053530416\n",
      "Power:  244.44444444444446\n",
      "Scan Speed:  2.4727272727272727\n",
      "\n",
      "\n"
     ]
    },
    {
     "name": "stderr",
     "output_type": "stream",
     "text": [
      " 95%|█████████▌| 476618/500000 [00:14<00:00, 35044.72it/s]"
     ]
    },
    {
     "name": "stdout",
     "output_type": "stream",
     "text": [
      "Epoch:  470000\n",
      "Reward:  -0.01372897078482684\n",
      "Epsilon:  0.00027692630811586245\n",
      "Power:  106.56565656565657\n",
      "Scan Speed:  1.763636363636364\n",
      "\n",
      "\n"
     ]
    },
    {
     "name": "stderr",
     "output_type": "stream",
     "text": [
      " 97%|█████████▋| 483697/500000 [00:14<00:00, 34821.42it/s]"
     ]
    },
    {
     "name": "stdout",
     "output_type": "stream",
     "text": [
      "Epoch:  480000\n",
      "Reward:  -0.003877334235493587\n",
      "Epsilon:  0.0002614024280670954\n",
      "Power:  187.87878787878788\n",
      "Scan Speed:  2.2\n",
      "\n",
      "\n"
     ]
    },
    {
     "name": "stderr",
     "output_type": "stream",
     "text": [
      " 99%|█████████▉| 494202/500000 [00:14<00:00, 33509.99it/s]"
     ]
    },
    {
     "name": "stdout",
     "output_type": "stream",
     "text": [
      "Epoch:  490000\n",
      "Reward:  -0.004161587843735641\n",
      "Epsilon:  0.0002469452215717782\n",
      "Power:  184.34343434343435\n",
      "Scan Speed:  2.172727272727273\n",
      "\n",
      "\n"
     ]
    },
    {
     "name": "stderr",
     "output_type": "stream",
     "text": [
      "100%|██████████| 500000/500000 [00:14<00:00, 33670.83it/s]\n"
     ]
    },
    {
     "data": {
      "image/png": "[encoded data removed]",
      "text/plain": [
       "<Figure size 640x480 with 2 Axes>"
      ]
     },
     "metadata": {},
     "output_type": "display_data"
    }
   ],
   "source": [
    "import numpy as np\n",
    "import matplotlib.pyplot as plt\n",
    "from tqdm import tqdm\n",
    "\n",
    "\n",
    "class QLearning:\n",
    "    def __init__(self):\n",
    "        # my hyperparameters\n",
    "        self.alpha = 0.9\n",
    "        self.gamma = 0.5\n",
    "        self.epsilon = 1\n",
    "        self.start_reward = -1\n",
    "        self.lr = 0.1\n",
    "        #self.q_table = np.zeros((100, 100, 4))\n",
    "        self.power_range = np.linspace(50.0, 400.0, 100)\n",
    "        self.scan_speed_range = np.linspace(0.3, 3.0, 100)\n",
    "        self.q_table = np.zeros((self.power_range.size, self.scan_speed_range.size, 4))\n",
    "        self.epochs = 500000\n",
    "        # material properties and constants from papers\n",
    "        self.absorptivity = 0.3\n",
    "        self.rho = 2680\n",
    "        self.Cp = 915.0\n",
    "        self.T_solid = 273 + 580\n",
    "        self.T_0 = 300.0\n",
    "        self.hf = 40000.0\n",
    "        self.Diffusivity = 0.000097\n",
    "        self.beam_diameter = 0.0001\n",
    "\n",
    "    # dimentionless enthalpy function\n",
    "    def H_star(self, power, scan_speed):\n",
    "        H = ((4 * self.absorptivity * power ) / (np.pi * self.rho * (self.Cp * (self.T_solid - self.T_0) + self.hf) * np.sqrt(self.Diffusivity * (scan_speed) * self.beam_diameter**3)))\n",
    "        return H\n",
    "    \n",
    "    def reward(self, power, scan_speed):\n",
    "        \n",
    "        # normalised reward function\n",
    "        # the aim is to get melt pool depth of 120 micrometers\n",
    "        # to fix the main problem of aditive manufactuing the higher speed the better\n",
    "        # the multiplication by 0.3 is absorbtivity\n",
    "        # 0.09 is the fourier number for my Alu\n",
    "        # 10 is to get the correct units\n",
    "        # this is based on the dimentionless enthalpy paper, the absorbtivity paper, and the melt pool paper\n",
    "        # min max normalisation to get -1 to 0\n",
    "        # -36000 is the min reward\n",
    "        # 0 is the max reward\n",
    "        reward = (-((self.H_star(power, scan_speed)* 0.3*0.09*10)-120)**2 - 1000*((scan_speed - 3)**2))/400000\n",
    "        #print(power, scan_speed, reward)\n",
    "        return reward\n",
    "    \n",
    "    def get_state(self, power, scan_speed):\n",
    "        power_index = np.argmin(np.abs(self.power_range - power))\n",
    "        scan_speed_index = np.argmin(np.abs(self.scan_speed_range - scan_speed))\n",
    "        return power_index, scan_speed_index\n",
    "    \n",
    "    # pick action based on epsilon greedy policy\n",
    "    def get_action(self, state):\n",
    "        if np.random.uniform(0, 1) < self.epsilon:\n",
    "            action = np.random.choice(4)\n",
    "            #print(action)\n",
    "        else:\n",
    "            # action = int((np.random.uniform(0, 1))*4)\n",
    "            # print(action)\n",
    "            action = np.argmax(self.q_table[state])\n",
    "        return action\n",
    "    \n",
    "    # update q table\n",
    "    def update_q_table(self, state, action, reward, next_state):\n",
    "        predict = self.q_table[state][action]\n",
    "        target = reward + self.gamma * np.max(self.q_table[next_state])\n",
    "        self.q_table[state][action] += self.alpha * (target - predict)\n",
    "\n",
    "    # train the agent\n",
    "    def train(self):\n",
    "        # start reward is set to a big negative number\n",
    "        reward = self.start_reward\n",
    "\n",
    "        for epoch in tqdm(range(self.epochs)):\n",
    "            # epsilon decay\n",
    "            self.epsilon = 0.9 ** np.cbrt(epoch)\n",
    "            power = np.random.choice(self.power_range)\n",
    "            scan_speed = np.random.choice(self.scan_speed_range)\n",
    "            state = self.get_state(power, scan_speed)\n",
    "            action = self.get_action(state)\n",
    "            \n",
    "            # manual clipping of the reward to avoid div by 0 arythmetic of very small numbers \n",
    "            # when using this setting you will end up with bigger problems than porosity according to papers so they might as well be ignored\n",
    "            if power < 50 or scan_speed < 0.2:\n",
    "                reward = -1\n",
    "            else:\n",
    "                reward = self.reward(power, scan_speed)\n",
    "                #reward = (self.reward(power, scan_speed)*(1-self.lr) + (self.lr)*reward)\n",
    "\n",
    "            if action == 0:\n",
    "                power = min(power + 1, self.power_range[-1])\n",
    "            elif action == 1:\n",
    "                power = max(power - 1, self.power_range[0])\n",
    "            elif action == 2:\n",
    "                scan_speed = min(scan_speed + 0.1, self.scan_speed_range[-1])\n",
    "            elif action == 3:\n",
    "                scan_speed = max(scan_speed - 0.1, self.scan_speed_range[0])\n",
    "            next_state = self.get_state(power, scan_speed)\n",
    "            self.update_q_table(state, action, reward, next_state)\n",
    "\n",
    "            if epoch % 10000 == 0:\n",
    "                print(\"Epoch: \", epoch)\n",
    "                print(\"Reward: \", reward)\n",
    "                print(\"Epsilon: \", self.epsilon)\n",
    "                print(\"Power: \", power)\n",
    "                print(\"Scan Speed: \", scan_speed)\n",
    "                print(\"\\n\")\n",
    "\n",
    "                \n",
    "        return self.q_table\n",
    "    \n",
    "    def optimal_policy(self):\n",
    "        optimal_policy = np.zeros((self.power_range.size, self.scan_speed_range.size))\n",
    "        for i in range(self.power_range.size):\n",
    "            for j in range(self.scan_speed_range.size):\n",
    "                optimal_policy[i][j] = np.argmax(self.q_table[i][j])\n",
    "        return optimal_policy\n",
    "    \n",
    "    # plots\n",
    "    def plot_optimal_policy(self):\n",
    "        optimal_policy = self.optimal_policy()\n",
    "        plt.imshow(optimal_policy)\n",
    "        plt.colorbar()\n",
    "        plt.xlabel('Power / 4')\n",
    "        plt.ylabel('Scan Speed * 33')\n",
    "        plt.title('Optimal Policy')\n",
    "        plt.show()\n",
    "\n",
    "    def plot_reward(self):\n",
    "        reward = np.zeros((self.power_range.size, self.scan_speed_range.size))\n",
    "        for i in range(self.power_range.size):\n",
    "            for j in range(self.scan_speed_range.size):\n",
    "                reward[i][j] = self.reward(self.power_range[i], self.scan_speed_range[j])\n",
    "        plt.imshow(reward)\n",
    "        plt.colorbar()\n",
    "        plt.xlabel('Power')\n",
    "        plt.ylabel('Scan Speed')\n",
    "        plt.title('Reward')\n",
    "        plt.show()\n",
    "\n",
    "ql = QLearning()\n",
    "q_table = ql.train()\n",
    "# #ql.plot_optimal_policy()\n",
    "ql.plot_reward()\n",
    "\n",
    "\n",
    "\n",
    "\n",
    "\n"
   ]
  },
  {
   "cell_type": "code",
   "execution_count": 19,
   "metadata": {},
   "outputs": [
    {
     "name": "stdout",
     "output_type": "stream",
     "text": [
      "The recommended power is 272 and the recommended scan speed is 3.00\n",
      "The second recommended power is 272 and the second recommended scan speed is 2.97\n",
      "The third recommended power is 268 and the third recommended scan speed is 2.97\n",
      "-1.0882890501445222e-09\n",
      "-0.7060471961305188\n"
     ]
    }
   ],
   "source": [
    "# # print the values assossiated with the highest reward\n",
    "# print(np.max(q_table))\n",
    "\n",
    "# # print the power and scan speed values assossiated with the highest reward\n",
    "# print(np.argmax(q_table))\n",
    "q_copy = q_table.copy()\n",
    "\n",
    "#location of the highest reward\n",
    "recc_power, recc_ss, R = np.unravel_index(np.argmax(q_copy, axis=None), q_copy.shape)\n",
    "print(f\"The recommended power is {recc_power*4} and the recommended scan speed is {recc_ss/33:.2f}\")\n",
    "#location of the second highest reward\n",
    "q_copy[recc_power, recc_ss] = -1000000\n",
    "recc_power, recc_ss, R = np.unravel_index(np.argmax(q_copy, axis=None), q_copy.shape)\n",
    "print(f\"The second recommended power is {recc_power*4} and the second recommended scan speed is {recc_ss/33:.2f}\")\n",
    "#location of the third highest reward\n",
    "q_copy[recc_power, recc_ss] = -1000000\n",
    "recc_power, recc_ss, R = np.unravel_index(np.argmax(q_copy, axis=None), q_copy.shape)\n",
    "print(f\"The third recommended power is {recc_power*4} and the third recommended scan speed is {recc_ss/33:.2f}\")\n",
    "\n",
    "# highest reward\n",
    "print(np.max(q_table))\n",
    "print(np.min(q_table))"
   ]
  },
  {
   "cell_type": "code",
   "execution_count": 20,
   "metadata": {},
   "outputs": [
    {
     "name": "stdout",
     "output_type": "stream",
     "text": [
      "q_table and optimal_policy saved as tiff files\n"
     ]
    }
   ],
   "source": [
    "# save the q table and the optimal policy as a tiff file\n",
    "import tifffile as tiff\n",
    "\n",
    "tiff.imwrite('q_table.tiff', q_table)\n",
    "tiff.imwrite('optimal_policy.tiff', ql.optimal_policy())\n",
    "\n",
    "print(\"q_table and optimal_policy saved as tiff files\")\n"
   ]
  },
  {
   "cell_type": "code",
   "execution_count": 21,
   "metadata": {},
   "outputs": [
    {
     "name": "stderr",
     "output_type": "stream",
     "text": [
      "/tmp/ipykernel_8480/3385403908.py:66: FutureWarning: The behavior of DataFrame concatenation with empty or all-NA entries is deprecated. In a future version, this will no longer exclude empty or all-NA columns when determining the result dtypes. To retain the old behavior, exclude the relevant entries before the concat operation.\n",
      "  df = df._append({'Power': power, 'Scan Speed': scan_speed, 'H_star': reward}, ignore_index=True)\n"
     ]
    },
    {
     "name": "stdout",
     "output_type": "stream",
     "text": [
      "15.955917309799544\n"
     ]
    },
    {
     "data": {
      "image/png": "[encoded data removed]",
      "text/plain": [
       "<Figure size 640x480 with 2 Axes>"
      ]
     },
     "metadata": {},
     "output_type": "display_data"
    }
   ],
   "source": [
    "import numpy as np\n",
    "import math\n",
    "import pandas as pd\n",
    "# input material properties\n",
    "\n",
    "# calcualte alpha\n",
    "\n",
    "# calcualte teh melt pool depth\n",
    "\n",
    "# return pi1, pi2 \n",
    "\n",
    "# heat of fusion for alu is 10.79 kJ/mol ???\n",
    "# or 4*10^5 J/kg\n",
    "\n",
    "# t0 will be 300K\n",
    "# t_solid will be 580 + 273 K = 853 K\n",
    "\n",
    "# rho = 2700 kg/m^3\n",
    "\n",
    "# Cp = 0.915 kJ/kgK\n",
    "\n",
    "# diffusivity = 9.7 * 10^-5 m^2/s\n",
    "\n",
    "# lets take the absorptivity as 0.3 the same as in the paper\n",
    "# assume that lasre power is at least 100W set the absorbptivity to 0.4 accoridn to the material paper\n",
    "\n",
    "\n",
    "# we have: \n",
    "# maybe absorptivity, power, rho, cp, T_solid, T_0, hf, Diffusivity, scan_speed, beam_diameter\n",
    "\n",
    "# ask abou the beam diameter, absorptivity\n",
    "\n",
    "# we dont have:\n",
    "# \n",
    "\n",
    "\n",
    "def H_star(absorptivity=0.3, power=400.0, rho=2680.0, Cp=915.0, T_solid=817.0, T_0=300.0, hf=40000.0, Diffusivity=0.000097, scan_speed=0.5, beam_diameter=0.0001):\n",
    "\n",
    "    H = (4 * absorptivity * power)/(np.pi*rho*(Cp*(T_solid - T_0) + hf) * np.sqrt(Diffusivity * scan_speed * beam_diameter**3))\n",
    "\n",
    "    #write the values for the variables in a csv file \n",
    "        \n",
    "\n",
    "    return H\n",
    "\n",
    "test_1 = H_star()\n",
    "\n",
    "print(test_1)\n",
    "\n",
    "\n",
    "\n",
    "# write a loop to go through power bewtween 50 and 400W, scan speed between 0.750 and 3.0\n",
    "\n",
    "#H * fourier number * absorptivity\n",
    "\n",
    "df = pd.DataFrame(columns=['Power', 'Scan Speed', 'H_star'])\n",
    "\n",
    "for power in np.linspace(50, 400, 20):\n",
    "    for scan_speed in np.linspace(0.5, 3.0, 20):\n",
    "        H_star_val = H_star(power=power, scan_speed=scan_speed)\n",
    "        #*100*0.9*0.3\n",
    "        # reward = ((-0.1*(H_star_val - 150)**2) - 1000*((scan_speed - 3)**2) - 0.1*(power - 300)**2)\n",
    "        # making the polot more legible, change for actualy reward function\n",
    "        reward = H_star_val\n",
    "\n",
    "        df = df._append({'Power': power, 'Scan Speed': scan_speed, 'H_star': reward}, ignore_index=True)\n",
    "\n",
    "# print(df)\n",
    "\n",
    "# write all the values for the variables in a csv file\n",
    "df.to_csv('H_star_values.csv')\n",
    "\n",
    "\n",
    "# reward fucntion in terms of just the enthalpy\n",
    "\n",
    "import matplotlib.pyplot as plt\n",
    "\n",
    "plt.scatter(df['Power'], df['Scan Speed'], c=df['H_star'], cmap='Set1')\n",
    "plt.colorbar()\n",
    "plt.xlabel('Power (W)')\n",
    "plt.ylabel('Scan Speed (m/s)')\n",
    "plt.title('H_star values for different power and scan speed values')\n",
    "\n",
    "        \n",
    "\n",
    "plt.show()"
   ]
  }
 ],
 "metadata": {
  "kernelspec": {
   "display_name": "P10",
   "language": "python",
   "name": "python3"
  },
  "language_info": {
   "codemirror_mode": {
    "name": "ipython",
    "version": 3
   },
   "file_extension": ".py",
   "mimetype": "text/x-python",
   "name": "python",
   "nbconvert_exporter": "python",
   "pygments_lexer": "ipython3",
   "version": "3.10.14"
  }
 },
 "nbformat": 4,
 "nbformat_minor": 2
}
